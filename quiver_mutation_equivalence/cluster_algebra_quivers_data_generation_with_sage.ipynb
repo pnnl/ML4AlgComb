{
 "cells": [
  {
   "cell_type": "markdown",
   "id": "9a3c5278",
   "metadata": {},
   "source": [
    "## This notebook shows how we generated the b-matrices of various quivers using Sage. See https://doc.sagemath.org/html/en/reference/combinat/sage/combinat/cluster_algebra_quiver/quiver_mutation_type.html"
   ]
  },
  {
   "cell_type": "code",
   "execution_count": 35,
   "id": "715bc300",
   "metadata": {},
   "outputs": [],
   "source": [
    "import numpy as np\n",
    "import pickle"
   ]
  },
  {
   "cell_type": "markdown",
   "id": "c217dd2f",
   "metadata": {},
   "source": [
    "Quivers of type A and D are of finite type, so you do not need to specify a depth (this is also true for type E, for n = 7 and n = 8). "
   ]
  },
  {
   "cell_type": "code",
   "execution_count": null,
   "id": "d62341fc",
   "metadata": {},
   "outputs": [],
   "source": [
    "quiver_type = \"D\"\n",
    "for N in [7, 8, 9]:\n",
    "    print(N)\n",
    "    B_matrices = []\n",
    "    Q = ClusterQuiver([quiver_type,N])\n",
    "    cls = Q.mutation_class()\n",
    "    print(len(cls))\n",
    "    for mat in cls: \n",
    "        B_matrices.append(np.array(mat.b_matrix()))\n",
    "    pickle.dump(B_matrices, open(f\"./cluster_algebras_data/{quiver_type}_{N}_bmatrices.p\", \"wb\"))"
   ]
  },
  {
   "cell_type": "markdown",
   "id": "1a139e02",
   "metadata": {},
   "source": [
    "The other quivers we generated the b-matrices for are not mutation finite, so you need to specify a depth. The cell below shows how to generate the b-matrices for type $E_{N}$. Other quivers supported in Sage and included in our dataset are: \n",
    "- ['AE', [5, 6]] \n",
    "- ['BB', 10, 1] \n",
    "- ['BD', 10, 1]\n",
    "- ['BE', 11]\n",
    "- ['DE', 11]"
   ]
  },
  {
   "cell_type": "code",
   "execution_count": 156,
   "id": "c8057d70",
   "metadata": {
    "scrolled": true
   },
   "outputs": [
    {
     "name": "stdout",
     "output_type": "stream",
     "text": [
      "8\n",
      "10\n",
      "10906\n",
      "11\n",
      "24060\n",
      "12\n",
      "48258\n",
      "9\n",
      "10\n",
      "14768\n",
      "11\n",
      "36247\n",
      "12\n",
      "79681\n",
      "10\n",
      "10\n",
      "18486\n",
      "11\n",
      "49956\n",
      "12\n",
      "120368\n",
      "11\n",
      "10\n",
      "22001\n",
      "11\n",
      "64449\n",
      "12\n",
      "169063\n",
      "12\n",
      "10\n",
      "25600\n",
      "11\n",
      "79817\n",
      "12\n",
      "224177\n"
     ]
    }
   ],
   "source": [
    "quiver_type = \"E\"\n",
    "for d in [8, 9, 10, 11]:\n",
    "    print(d)\n",
    "    for N in [10, 11, 12]:\n",
    "        print(N)\n",
    "        E_matrices = []\n",
    "        Q = ClusterQuiver([quiver_type,N])\n",
    "        cls = Q.mutation_class(depth = d)\n",
    "        print(len(cls))\n",
    "        for mat in cls: \n",
    "            E_matrices.append(np.array(mat.b_matrix()))\n",
    "        pickle.dump(E_matrices, open(f\"./cluster_algebras_data/E_{N}_depth{d}_bmatrices.p\", \"wb\"))"
   ]
  },
  {
   "cell_type": "markdown",
   "id": "f9f87669",
   "metadata": {},
   "source": [
    "Using Sage, you can visualize the quiver, as shown below. \n"
   ]
  },
  {
   "cell_type": "code",
   "execution_count": 145,
   "id": "815f89cc",
   "metadata": {},
   "outputs": [
    {
     "data": {
      "image/png": "[encoded data removed]",
      "text/plain": [
       "Digraph on 9 vertices"
      ]
     },
     "execution_count": 145,
     "metadata": {},
     "output_type": "execute_result"
    }
   ],
   "source": [
    "Q = ClusterQuiver(['A',9])\n",
    "Q.digraph()"
   ]
  },
  {
   "cell_type": "markdown",
   "id": "b4cd6bec",
   "metadata": {},
   "source": [
    "Using Sage, you can also list properties of the mutation type. "
   ]
  },
  {
   "cell_type": "code",
   "execution_count": 222,
   "id": "9323e919",
   "metadata": {},
   "outputs": [],
   "source": [
    "mut_type = QuiverMutationType('AE',(5, 6))\n",
    "mut_type.properties()"
   ]
  },
  {
   "cell_type": "code",
   "execution_count": null,
   "id": "0a9a3c1b",
   "metadata": {},
   "outputs": [],
   "source": []
  }
 ],
 "metadata": {
  "kernelspec": {
   "display_name": "SageMath 10.5",
   "language": "sage",
   "name": "sagemath"
  },
  "language_info": {
   "codemirror_mode": {
    "name": "ipython",
    "version": 3
   },
   "file_extension": ".py",
   "mimetype": "text/x-python",
   "name": "python",
   "nbconvert_exporter": "python",
   "pygments_lexer": "ipython3",
   "version": "3.11.11"
  }
 },
 "nbformat": 4,
 "nbformat_minor": 5
}
