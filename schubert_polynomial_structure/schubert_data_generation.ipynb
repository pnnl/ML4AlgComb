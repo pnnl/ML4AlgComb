{
 "cells": [
  {
   "cell_type": "markdown",
   "id": "8dad6c25",
   "metadata": {},
   "source": [
    "## This notebook shows how we generated the Schubert polynomial dataset. \n",
    "## See: https://doc.sagemath.org/html/en/reference/combinat/sage/combinat/schubert_polynomial.html"
   ]
  },
  {
   "cell_type": "code",
   "execution_count": null,
   "id": "d7e2be85",
   "metadata": {},
   "outputs": [],
   "source": [
    "import numpy as np\n",
    "import itertools\n",
    "import random\n",
    "from sage.all import SchubertPolynomialRing, Permutations, ZZ\n",
    "import math\n",
    "random.seed(int(32))"
   ]
  },
  {
   "cell_type": "code",
   "execution_count": null,
   "id": "f66a7db1",
   "metadata": {},
   "outputs": [],
   "source": [
    "X = SchubertPolynomialRing(ZZ)"
   ]
  },
  {
   "cell_type": "code",
   "execution_count": null,
   "id": "634ee383",
   "metadata": {},
   "outputs": [],
   "source": [
    "#When n = 3, the permutations in the product can all be embedded in S_5\n",
    "#When n = 4, the permutations in the product can all be embedded in S_7\n",
    "#When n = 5, the permutations in the product can all be embedded in S_9\n",
    "#When n = 6, the permutations in the product can all be embedded in S_11\n",
    "\n",
    "n = 3\n",
    "nn = 5"
   ]
  },
  {
   "cell_type": "code",
   "execution_count": null,
   "id": "9b8aaa06",
   "metadata": {},
   "outputs": [],
   "source": [
    "def swap(perm, ind1, ind2):\n",
    "    newperm = [0]*len(perm)\n",
    "    for i in range(len(perm)):\n",
    "        if i == ind1:\n",
    "            newperm[i] = perm[ind2]\n",
    "        elif i == ind2:\n",
    "            newperm[i] = perm[ind1]\n",
    "        else:\n",
    "            newperm[i] = perm[i]\n",
    "    return newperm\n",
    "\n",
    "def construct_zero_coeff_example(perm, n):\n",
    "    #The number of transpositions we multiply perm by is sampled from a geometric distribution\n",
    "    #The number of transpositions can't be greater than the total number of transpositions\n",
    "    number_of_transpositions = min( np.random.geometric(0.20), int((nn)*(nn-1)/2))\n",
    "    combinations = list(itertools.combinations(range( nn ), 2))\n",
    "    transpositions = random.sample(combinations, number_of_transpositions)\n",
    "    for (i, j) in transpositions:\n",
    "        perm = swap(perm, i, j)\n",
    "    return perm\n",
    "\n",
    "positive_coeff_triples = []\n",
    "zero_coeff_triples = []\n",
    "P = Permutations(n)\n",
    "\n",
    "for p1 in P:\n",
    "    for p2 in P:\n",
    "        #Compute the product of the permutations\n",
    "        product = X(p1)*X(p2)\n",
    "        #Make a list of (perm, coeff) that appear in the product\n",
    "        permutations_in_product = [p[0] for p in list(product)]\n",
    "        \n",
    "        #embed permutations in S_{nn}\n",
    "        embedded_permutations_in_product = [p[0]+ list(range(len(p[0])+1, nn+1 )) for p in list(product)]\n",
    "\n",
    "\n",
    "        for (perm, coeff) in list(product):\n",
    "            embedded_perm = perm + list(range(len(perm)+1, nn+1))\n",
    "            positive_coeff_triples.append((p1, p2, embedded_perm, coeff))\n",
    "\n",
    "            #Construct an example with a zero coefficient by multiplying the \n",
    "            #coefficient in the product by a random number of transpositions\n",
    "            if len(embedded_perm) > 1:\n",
    "                newperm = construct_zero_coeff_example(embedded_perm, n)\n",
    "                \n",
    "                #Check that the new permutation isn't in the product\n",
    "                if newperm not in embedded_permutations_in_product: \n",
    "                    zero_coeff_triples.append((p1, p2, newperm, 0))\n",
    "                else:\n",
    "                    print(f\"{newperm} in {embedded_permutations_in_product}, not adding to zero coeff triples\")"
   ]
  },
  {
   "cell_type": "code",
   "execution_count": null,
   "id": "e805dd05",
   "metadata": {},
   "outputs": [],
   "source": [
    "len(positive_coeff_triples)"
   ]
  },
  {
   "cell_type": "code",
   "execution_count": null,
   "id": "e3ca4f24",
   "metadata": {},
   "outputs": [],
   "source": [
    "len(zero_coeff_triples)"
   ]
  },
  {
   "cell_type": "code",
   "execution_count": null,
   "id": "ac59bbd2",
   "metadata": {},
   "outputs": [],
   "source": [
    "all_examples = positive_coeff_triples + zero_coeff_triples"
   ]
  },
  {
   "cell_type": "code",
   "execution_count": null,
   "id": "709e4276",
   "metadata": {},
   "outputs": [],
   "source": [
    "random.shuffle(all_examples)\n",
    "split = 0.8\n",
    "ds_size = int(len(all_examples))\n",
    "\n",
    "all_examples_train = all_examples[:math.ceil(ds_size*split)]\n",
    "all_examples_test = all_examples[math.ceil(ds_size*split):]\n"
   ]
  },
  {
   "cell_type": "code",
   "execution_count": null,
   "id": "07f33e16",
   "metadata": {},
   "outputs": [],
   "source": [
    "arr_train = []\n",
    "for row in all_examples_train:\n",
    "    arr_train.append(str(row))\n",
    "arr_test = []\n",
    "for row in all_examples_test:\n",
    "    arr_test.append(str(row))\n",
    "np.savetxt(f'schubert_{n}_train.txt', arr_train, fmt = \"%s\")\n",
    "np.savetxt(f'schubert_{n}_test.txt', arr_test, fmt = \"%s\")"
   ]
  },
  {
   "cell_type": "code",
   "execution_count": null,
   "id": "6d1fbde4",
   "metadata": {},
   "outputs": [],
   "source": []
  }
 ],
 "metadata": {
  "kernelspec": {
   "display_name": "Python (ml4alg)",
   "language": "python",
   "name": "ml4alg"
  },
  "language_info": {
   "codemirror_mode": {
    "name": "ipython",
    "version": 3
   },
   "file_extension": ".py",
   "mimetype": "text/x-python",
   "name": "python",
   "nbconvert_exporter": "python",
   "pygments_lexer": "ipython3",
   "version": "3.11.11"
  }
 },
 "nbformat": 4,
 "nbformat_minor": 5
}
