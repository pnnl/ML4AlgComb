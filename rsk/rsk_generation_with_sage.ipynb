{
 "cells": [
  {
   "cell_type": "markdown",
   "id": "575774d6",
   "metadata": {},
   "source": [
    "## This notebook shows how to generate data for the RSK dataset with Sage.\n",
    "\n",
    "Note that although the variables and files are called \"output_tableau_pairs\" and \"input_permutations\", we ultimately used the tableau pairs as input and permutations as output. It would also be interesting to train a model to predict the tableau pairs from the permutations. "
   ]
  },
  {
   "cell_type": "code",
   "execution_count": 1,
   "id": "adf3ea05",
   "metadata": {},
   "outputs": [],
   "source": [
    "import numpy as np\n",
    "import random\n",
    "from sage.all import Permutations, RSK\n",
    "import math\n",
    "\n",
    "N = 8\n",
    "input_permutations = list(Permutations(N))"
   ]
  },
  {
   "cell_type": "code",
   "execution_count": 2,
   "id": "f7f1a487",
   "metadata": {},
   "outputs": [
    {
     "data": {
      "text/plain": [
       "40320"
      ]
     },
     "execution_count": 2,
     "metadata": {},
     "output_type": "execute_result"
    }
   ],
   "source": [
    "len(input_permutations)"
   ]
  },
  {
   "cell_type": "code",
   "execution_count": 3,
   "id": "1591e8d2",
   "metadata": {},
   "outputs": [],
   "source": [
    "output_tableau_pairs = []\n",
    "for w in input_permutations:\n",
    "    output_tableau_pairs.append( str(RSK(w) ) )"
   ]
  },
  {
   "cell_type": "code",
   "execution_count": 4,
   "id": "c9360796",
   "metadata": {},
   "outputs": [],
   "source": [
    "np.random.seed(32)\n",
    "split = 0.8\n",
    "ds_size = int(len(input_permutations))\n",
    "\n",
    "random_idx = list(range(len(input_permutations)))\n",
    "np.random.shuffle(random_idx)"
   ]
  },
  {
   "cell_type": "code",
   "execution_count": 5,
   "id": "daa6e4f3",
   "metadata": {},
   "outputs": [],
   "source": [
    "input_permutations_train = np.array(input_permutations)[random_idx][:math.ceil(ds_size*split)]\n",
    "input_permutations_test = np.array(input_permutations)[random_idx][math.ceil(ds_size*split):]"
   ]
  },
  {
   "cell_type": "code",
   "execution_count": 6,
   "id": "93b2f2fa",
   "metadata": {},
   "outputs": [],
   "source": [
    "output_tableau_pairs_train = np.array(output_tableau_pairs, dtype = str)[random_idx][:math.ceil(ds_size*split)]\n",
    "output_tableau_pairs_test = np.array(output_tableau_pairs, dtype = str)[random_idx][math.ceil(ds_size*split):]"
   ]
  },
  {
   "cell_type": "code",
   "execution_count": 7,
   "id": "42f5bab6",
   "metadata": {},
   "outputs": [],
   "source": [
    "np.savetxt(f\"./output_tableau_pairs_{N}_train.csv\", output_tableau_pairs_train, delimiter = \",\", fmt = \"%s\")\n",
    "np.savetxt(f\"./output_tableau_pairs_{N}_test.csv\", output_tableau_pairs_test, delimiter = \",\", fmt = \"%s\")"
   ]
  },
  {
   "cell_type": "code",
   "execution_count": 8,
   "id": "60105796",
   "metadata": {},
   "outputs": [],
   "source": [
    "np.savetxt(f\"./input_permutations_{N}_train.csv\", input_permutations_train, delimiter = \",\", fmt = \"%d\")\n",
    "np.savetxt(f\"./input_permutations_{N}_test.csv\", input_permutations_test, delimiter = \",\", fmt = \"%d\")"
   ]
  }
 ],
 "metadata": {
  "kernelspec": {
   "display_name": "ml4alg",
   "language": "python",
   "name": "python3"
  },
  "language_info": {
   "codemirror_mode": {
    "name": "ipython",
    "version": 3
   },
   "file_extension": ".py",
   "mimetype": "text/x-python",
   "name": "python",
   "nbconvert_exporter": "python",
   "pygments_lexer": "ipython3",
   "version": "3.11.11"
  }
 },
 "nbformat": 4,
 "nbformat_minor": 5
}
