{
 "cells": [
  {
   "cell_type": "markdown",
   "metadata": {},
   "source": [
    "This notebook shows how to generate the mHeight function dataset. This dataset is unbalanced; we show how to generate the full dataset and how to sample the data so that the heights all show up an equal number of times. The dataset in ML4AlgComb is the full dataset, not the sampled version."
   ]
  },
  {
   "cell_type": "code",
   "execution_count": 1,
   "metadata": {},
   "outputs": [],
   "source": [
    "import itertools\n",
    "import random\n",
    "import os\n",
    "\n",
    "if not os.path.exists(\"data\"):\n",
    "    os.makedirs(\"data\")\n",
    "\n",
    "mHeightRanges = {\n",
    "    8: 3,\n",
    "    9: 3,\n",
    "    10: 3,\n",
    "    11: 4,\n",
    "    12: 4,\n",
    "}"
   ]
  },
  {
   "cell_type": "code",
   "execution_count": 2,
   "metadata": {},
   "outputs": [],
   "source": [
    "ntokens = 5\n",
    "# Generates all mHeights.\n",
    "with open(f\"./data/mHeight_{ntokens}.txt\", \"w\") as f:\n",
    "    for w in itertools.permutations(range(ntokens)):\n",
    "        m = ntokens\n",
    "        contains4231 = False\n",
    "        for (a,b,c,d) in itertools.combinations(range(ntokens), 4):\n",
    "            if w[c] < w[d] < w[a] < w[b]:\n",
    "                m = min(m, w[a] - w[d])\n",
    "            if w[d] < w[b] < w[c] < w[a]:\n",
    "                contains4231 = True\n",
    "                break\n",
    "        if m < ntokens and not contains4231:\n",
    "            f.write(f\"{w};{m-1}\\n\")"
   ]
  },
  {
   "cell_type": "code",
   "execution_count": 7,
   "metadata": {},
   "outputs": [
    {
     "name": "stdout",
     "output_type": "stream",
     "text": [
      "{0: 14, 1: 1}\n"
     ]
    }
   ],
   "source": [
    "# Print out how many permutations there are of each mHeight\n",
    "mHeight_distribution = {}\n",
    "with open(f\"data/mHeight_{ntokens}.txt\", \"r\") as f:\n",
    "    line = f.readline()\n",
    "    while line:\n",
    "        _, m = line.split(\";\")\n",
    "        m = eval(m)\n",
    "        if m not in mHeight_distribution:\n",
    "            mHeight_distribution[m] = 0\n",
    "        mHeight_distribution[m] += 1\n",
    "        line = f.readline()\n",
    "print(mHeight_distribution)"
   ]
  },
  {
   "cell_type": "code",
   "execution_count": 17,
   "metadata": {},
   "outputs": [],
   "source": [
    "# Produce a sampled version of the data such that heights 1, 2, ..., max_height\n",
    "# all show up a equal number of times.\n",
    "\n",
    "for n in range(8, 13):\n",
    "    max_height = mHeightRanges[n]\n",
    "    samples = 0\n",
    "    with open(f\"data/mHeight_{n}_full.txt\", \"r\") as f:\n",
    "        line = f.readline()\n",
    "        while line:\n",
    "            _, m = line.split(\";\")\n",
    "            m = eval(m)\n",
    "            if m == max_height-1:\n",
    "                samples += 1\n",
    "            line = f.readline()\n",
    "    mHeight_indices = {}\n",
    "    with open(f\"data/mHeight_{n}_full.txt\", \"r\") as f:\n",
    "        line = f.readline()\n",
    "        idx = 0\n",
    "        while line:\n",
    "            _, m = line.split(\";\")\n",
    "            m = eval(m)\n",
    "            if m not in mHeight_indices:\n",
    "                mHeight_indices[m] = []\n",
    "            mHeight_indices[m].append(idx)\n",
    "            line = f.readline()\n",
    "            idx += 1\n",
    "    indices = set()\n",
    "    for i in range(max_height):\n",
    "        random.shuffle(mHeight_indices[i])\n",
    "        indices = indices | set(mHeight_indices[i][:samples])\n",
    "\n",
    "    with open(f\"data/mHeight_{n}_full.txt\", \"r\") as f:\n",
    "        with open(f\"data/mHeight_{n}_sampled.txt\", \"w\") as out_f:\n",
    "            line = f.readline()\n",
    "            idx = 0\n",
    "            while line:\n",
    "                if idx in indices:\n",
    "                    out_f.write(line)\n",
    "                line = f.readline()\n",
    "                idx += 1"
   ]
  }
 ],
 "metadata": {
  "kernelspec": {
   "display_name": "Python 3 (ipykernel)",
   "language": "python",
   "name": "python3"
  },
  "language_info": {
   "codemirror_mode": {
    "name": "ipython",
    "version": 3
   },
   "file_extension": ".py",
   "mimetype": "text/x-python",
   "name": "python",
   "nbconvert_exporter": "python",
   "pygments_lexer": "ipython3",
   "version": "3.11.11"
  }
 },
 "nbformat": 4,
 "nbformat_minor": 4
}
