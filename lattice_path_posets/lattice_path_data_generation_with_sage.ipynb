{
 "cells": [
  {
   "cell_type": "markdown",
   "id": "70e8488b",
   "metadata": {},
   "source": [
    "## This notebook shows how to generate the lattice path dataset using Sage.\n",
    "\n",
    "For documentation of the Sage functions we used, see: \n",
    "- https://doc.sagemath.org/html/en/reference/diophantine_approximation/sage/rings/continued_fraction.html\n",
    "- https://doc.sagemath.org/html/en/reference/combinat/sage/combinat/dyck_word.html"
   ]
  },
  {
   "cell_type": "code",
   "execution_count": 3,
   "id": "d0d8f9b0",
   "metadata": {},
   "outputs": [],
   "source": [
    "from collections import Counter, defaultdict\n",
    "import csv\n",
    "import math\n",
    "import numpy as np\n",
    "import operator\n",
    "import os\n",
    "import pickle\n",
    "import random\n",
    "from sage.all import continued_fraction, DyckWords\n",
    "from tqdm import tqdm\n",
    "\n"
   ]
  },
  {
   "cell_type": "markdown",
   "id": "b9c1418d",
   "metadata": {},
   "source": [
    "### Step 1: create dictionaries D_m and D_l:\n",
    "D_m.items() are of the form ( m,  (p, m)  ), where m is a matching number and p is a lattice path with that matching number\n",
    "D_l.items() are of the form ( (D, q), (p, l) ), where (D, q) is the (discriminant, denominator) representation of a Lagrange number, l is the float representation of that Lagrange number, and p is a lattice path with that Lagrange number. "
   ]
  },
  {
   "cell_type": "code",
   "execution_count": 4,
   "id": "8c97b363",
   "metadata": {},
   "outputs": [],
   "source": [
    "def find_differences(p, q):\n",
    "    return [q[i]- p[i] for i in range(len(p))]\n",
    "\n",
    "def to_continued_fraction(p):\n",
    "    C = []\n",
    "    w = list(p)\n",
    "    for i in range(len(w)-1):\n",
    "        if w[i] == w[i+1]:\n",
    "            C += [1, 1]\n",
    "        else:\n",
    "            C.append(2)\n",
    "    return continued_fraction(C)\n",
    "\n",
    "def to_periodic_continued_fraction_as_list(p):\n",
    "    C = []\n",
    "    w = list(p)\n",
    "    for i in range(len(w)-1):\n",
    "        if w[i] == w[i+1]:\n",
    "            C += [1, 1]\n",
    "        else:\n",
    "            C.append(2)\n",
    "    return [2] + C\n",
    "\n",
    "def find_p_and_q(C):\n",
    "    CF = continued_fraction(C)\n",
    "    return CF.numerator(len(C)), CF.denominator(len(C))\n",
    "\n",
    "def find_r_and_s(C):\n",
    "    CF = continued_fraction(C[:-1])\n",
    "    return CF.numerator(len(C)), CF.denominator(len(C))\n",
    "\n",
    "def find_discriminant_and_q(C):\n",
    "    p, q = find_p_and_q(C)\n",
    "    r, s = find_r_and_s(C)\n",
    "    D = (p-s)**2 + 4*r*q\n",
    "    return D, q\n",
    "\n",
    "def find_Lagrange_number(p):\n",
    "    \"\"\"\n",
    "    Given a lattice path p, returns two representations of the Lagrange number:\n",
    "    as a float and as a (discriminant, denominator) pair. \n",
    "    \"\"\"\n",
    "    C = to_periodic_continued_fraction_as_list(p)\n",
    "    L = []\n",
    "    D_q = []\n",
    "    for i in range(len(C)):\n",
    "        shift = np.roll(C, -i)\n",
    "        D, q = find_discriminant_and_q(list(shift))\n",
    "        L.append( np.sqrt(D)/q )\n",
    "        D_q.append( (D, q) )\n",
    "    lagrange_number = max(L)\n",
    "    ind_of_lagrange_number = np.argmax(L)\n",
    "    return lagrange_number, D_q[ind_of_lagrange_number]"
   ]
  },
  {
   "cell_type": "code",
   "execution_count": null,
   "id": "1acbf5dd",
   "metadata": {},
   "outputs": [],
   "source": [
    "#check example from https://www.samuelfhopkins.com/OPAC/files/proceedings/schiffler.pdf\n",
    "p = [1, 1, 0, 1, 0, 1, 1, 0, 1, 1, 0, 0, 0]\n",
    "C = to_continued_fraction(p)\n",
    "print(C)\n",
    "print(C.numerator(len(C)))\n",
    "print(C.denominator(len(C)))"
   ]
  },
  {
   "cell_type": "code",
   "execution_count": null,
   "id": "09611461",
   "metadata": {},
   "outputs": [],
   "source": [
    "#check example from https://www.samuelfhopkins.com/OPAC/files/proceedings/schiffler.pdf\n",
    "p = [1, 1,1, 0, 1,   0, 1, 1,   0, 0, 1, 0, 0]\n",
    "C = to_continued_fraction(p)\n",
    "print(C)\n",
    "print(C.numerator(len(C)))\n",
    "print(C.denominator(len(C)))"
   ]
  },
  {
   "cell_type": "code",
   "execution_count": null,
   "id": "e2e94db4",
   "metadata": {},
   "outputs": [],
   "source": [
    "p = [1, 1, 0, 1, 0]\n",
    "C = to_continued_fraction(p)\n",
    "print(C)\n",
    "C.numerator(len(C))"
   ]
  },
  {
   "cell_type": "markdown",
   "id": "f3a8e8c1",
   "metadata": {},
   "source": [
    "#### Make valid lattice paths"
   ]
  },
  {
   "cell_type": "code",
   "execution_count": 8,
   "id": "bd3c5c7f",
   "metadata": {},
   "outputs": [],
   "source": [
    "def compute_num_ones(p):\n",
    "    num_ones = []\n",
    "    for i in range(len(p)):\n",
    "        num_ones.append(sum(p[:i+1]))\n",
    "    return num_ones\n",
    "\n",
    "def compute_num_zeros(p):\n",
    "    p = [(num +1) %2 for num in p]\n",
    "    num_ones = []\n",
    "    for i in range(len(p)):\n",
    "        num_ones.append(sum(p[:i+1]))\n",
    "    return num_ones\n",
    "\n",
    "def below_diagonal(num_ones, num_zeros):\n",
    "    for i in range(len(num_ones)):\n",
    "        if num_ones[i] - num_zeros[i] < 1:\n",
    "            return False\n",
    "    return True"
   ]
  },
  {
   "cell_type": "code",
   "execution_count": null,
   "id": "89f9d2f4",
   "metadata": {},
   "outputs": [],
   "source": [
    "\n",
    "\n",
    "\n",
    "if not os.path.exists(\"./poset_data_final/\"):\n",
    "    os.makedirs(\"./poset_data_final/\", mode = 0o770)"
   ]
  },
  {
   "cell_type": "code",
   "execution_count": null,
   "id": "c4935b5b",
   "metadata": {},
   "outputs": [],
   "source": [
    "for a in range(10, 14):\n",
    "    print(f\"a: {a}\")\n",
    "    b = a-1\n",
    "    print(f\"b: {b}\")\n",
    "    \n",
    "    #These paths stay below the diagonal y = x\n",
    "    dyck_paths = DyckWords(a, b)\n",
    "    print(f\"number of paths that stay below the diagonal y = x: {len(dyck_paths)}\")\n",
    "\n",
    "    paths = []\n",
    "    for i, p in enumerate(dyck_paths):\n",
    "        num_ones =  compute_num_ones(p)\n",
    "        num_zeros = compute_num_zeros(p)\n",
    "        if below_diagonal(num_ones, num_zeros):\n",
    "            paths.append(p)\n",
    "            \n",
    "\n",
    "    pickle.dump(paths, open(f\"./poset_data_final/paths_{a}_{b}.pkl\", \"wb\" ) )\n",
    "    \n",
    "    print(f\"There are {len(paths)} allowed paths\")\n",
    "\n",
    "    D_m = defaultdict(list) #key matching number, value (path, matching number)\n",
    "    M = dict() #key path, value matching number\n",
    "\n",
    "    for i, p in enumerate(paths):\n",
    "        c= to_continued_fraction(p)\n",
    "        m = c.numerator(len(c))\n",
    "\n",
    "        D_m[m].append( (list(p), m) )\n",
    "        M[tuple(p)] = m\n",
    "\n",
    "    pickle.dump(D_m, open(f\"./poset_data_final/Dm_{a}_{b}.pkl\", \"wb\" ) )\n",
    "    pickle.dump(M, open(f\"./poset_data_final/matching_numbers_{a}_{b}.pkl\", \"wb\" ) )\n",
    "\n",
    "    print(f\"There are {len(D_m)} different matching numbers\")\n",
    "\n",
    "    D_l = defaultdict(list) #key (D, Q), value (path, lagrange number)\n",
    "    L = dict()\n",
    "    for i, p in enumerate(paths):\n",
    "        lag_num, (D, Q) = find_Lagrange_number(p)\n",
    "        D_l[(D, Q)].append( (list(p), lag_num ) ) \n",
    "        L[tuple(p)] = lag_num\n",
    "\n",
    "        if i % 10000 == 0:\n",
    "            print(i)\n",
    "\n",
    "    pickle.dump(D_l, open(f\"./poset_data_final/Dl_{a}_{b}.pkl\", \"wb\" ) )\n",
    "    pickle.dump(L, open(f\"./poset_data_final/lagrange_numbers_{a}_{b}.pkl\", \"wb\" ) )\n",
    "\n",
    "    print(f\"There are {len(D_l)} different Lagrange numbers\")"
   ]
  },
  {
   "cell_type": "code",
   "execution_count": 59,
   "id": "2e82a1c3",
   "metadata": {},
   "outputs": [],
   "source": [
    "#If D_m, D_l, L, M have already been saved\n",
    "#a = 13\n",
    "#b = 12\n",
    "#paths = pickle.load( open(f\"./poset_data_final/paths_{a}_{b}.pkl\", \"rb\" ) )\n",
    "\n",
    "#D_m = pickle.load( open(f\"./poset_data_final/Dm_{a}_{b}.pkl\", \"rb\" ) )\n",
    "#D_l = pickle.load( open(f\"./poset_data_final/Dl_{a}_{b}.pkl\", \"rb\" ) )\n",
    "#L = pickle.load( open(f\"./poset_data_final/lagrange_numbers_{a}_{b}.pkl\", \"rb\" ) )\n",
    "#M = pickle.load( open(f\"./poset_data_final/matching_numbers_{a}_{b}.pkl\", \"rb\" ) )"
   ]
  },
  {
   "cell_type": "markdown",
   "id": "a26600ac",
   "metadata": {},
   "source": [
    "## Step 2: Make covering dict\n",
    "\n",
    "A covering dictionary is has keys lattice paths, and values are lists of covers of that lattice paths"
   ]
  },
  {
   "cell_type": "code",
   "execution_count": 50,
   "id": "9eb6150a",
   "metadata": {},
   "outputs": [],
   "source": [
    "def make_covering_dict(D, K):\n",
    "    \"\"\"\n",
    "    Parameters\n",
    "    ----------\n",
    "    D: dict\n",
    "        keys are either matching numbers (as integers) or Lagrange numbers (as (D, q) representation)\n",
    "        values are (paths, n) where n is the matching number or the float representation of the Lagrange number\n",
    "    K: list\n",
    "        A sorted list of Lagrange number or matching numbers\n",
    "    \n",
    "    Returns\n",
    "    -------\n",
    "    covering_dict: dict\n",
    "        A dictionary where keys are lattice paths (represented as binary tuples), and\n",
    "        values are lists of lattice paths that cover the corresponding key path.\n",
    "        \n",
    "    \"\"\"\n",
    "    covering_dict = defaultdict(list)\n",
    "\n",
    "    for i in range(len(K)-1):\n",
    "        for (p, l_num) in D[K[i]]:\n",
    "            for (q, l_num) in D[K[i+1]]:\n",
    "                covering_dict[tuple(p)].append(q)\n",
    "    return covering_dict"
   ]
  },
  {
   "cell_type": "code",
   "execution_count": 51,
   "id": "6a5d5997",
   "metadata": {},
   "outputs": [],
   "source": [
    "D_l_items_list = list(D_l.items())\n",
    "lagrange_numbers = sorted(D_l_items_list, key = operator.itemgetter(1, 0, -1))\n",
    "matching_numbers = sorted(D_m.keys())\n",
    "K = [x[0] for x in lagrange_numbers]\n",
    "covering_dict = dict()\n",
    "covering_dict['lagrange'] = make_covering_dict(D_l, K)\n",
    "covering_dict['matching'] = make_covering_dict(D_m, matching_numbers)                                               "
   ]
  },
  {
   "cell_type": "markdown",
   "id": "365bcebd",
   "metadata": {},
   "source": [
    "### Step 3: We create a dataset of tuples (p, q, diff): p is a lattice path, q is (one of its) covers, and diff is the sequence q[i] - p[i]"
   ]
  },
  {
   "cell_type": "code",
   "execution_count": 52,
   "id": "9ba495cc",
   "metadata": {},
   "outputs": [],
   "source": [
    "def check_for_cover_in_both(p, covering_dict):\n",
    "    exists_cover_in_both = False\n",
    "    for q in covering_dict['lagrange'][p]:\n",
    "        if q in covering_dict['matching'][p]:\n",
    "            exists_cover_in_both = True\n",
    "    return exists_cover_in_both"
   ]
  },
  {
   "cell_type": "markdown",
   "id": "94d83a6b",
   "metadata": {},
   "source": [
    "#### We do a train/test split on the lattice paths:"
   ]
  },
  {
   "cell_type": "code",
   "execution_count": 53,
   "id": "bdf62a5f",
   "metadata": {},
   "outputs": [],
   "source": [
    "np.random.seed(32)\n",
    "split = 0.8\n",
    "ds_size = int(len(paths))\n",
    "\n",
    "random_idx = list(range(len(paths)))\n",
    "np.random.shuffle(random_idx)"
   ]
  },
  {
   "cell_type": "code",
   "execution_count": 54,
   "id": "d2d1999c",
   "metadata": {},
   "outputs": [],
   "source": [
    "paths_train = np.array(paths)[random_idx][:math.ceil(ds_size*split)]\n",
    "paths_test = np.array(paths)[random_idx][math.ceil(ds_size*split):]"
   ]
  },
  {
   "cell_type": "code",
   "execution_count": 55,
   "id": "ea424f38",
   "metadata": {},
   "outputs": [],
   "source": [
    "def make_pairs(P, covering_dict):\n",
    "\n",
    "    covers_in_both = []\n",
    "    covers_in_lagrange_only = []\n",
    "    covers_in_matching_only = []\n",
    "\n",
    "    for p in P:\n",
    "        p = tuple(p)\n",
    "        if p != tuple([1]*a + [0]*b): #This is the maximal element and will not have a cover\n",
    "            exists_cover_in_both = check_for_cover_in_both(p, covering_dict)\n",
    "\n",
    "            if exists_cover_in_both == False:\n",
    "                for q in covering_dict['lagrange'][p]:\n",
    "                    covers_in_lagrange_only.append((list(p), q ))\n",
    "\n",
    "                for q in covering_dict['matching'][p]:\n",
    "                    if q in covering_dict['lagrange'][p]:\n",
    "                        print(\"ERROR THIS SHOULD NOT HAPPEN\")\n",
    "                    else:\n",
    "                        covers_in_matching_only.append((list(p), q ))\n",
    "           # else:\n",
    "              #  covers_in_both.append((list(p), q, find_differences(p, q) ))\n",
    "\n",
    "    return covers_in_lagrange_only, covers_in_matching_only#, covers_in_both\n"
   ]
  },
  {
   "cell_type": "code",
   "execution_count": 56,
   "id": "1fb6d668",
   "metadata": {},
   "outputs": [],
   "source": [
    "covers_in_lagrange_only_train, covers_in_matching_only_train = make_pairs(paths_train, covering_dict)"
   ]
  },
  {
   "cell_type": "code",
   "execution_count": 57,
   "id": "18b0292c",
   "metadata": {},
   "outputs": [],
   "source": [
    "covers_in_lagrange_only_test, covers_in_matching_only_test = make_pairs(paths_test, covering_dict)"
   ]
  },
  {
   "cell_type": "code",
   "execution_count": 58,
   "id": "1bfc6a3e",
   "metadata": {},
   "outputs": [],
   "source": [
    "for (L, poset_type, train_or_test) in [(covers_in_lagrange_only_train, \"lagrange\", \"train\"), \n",
    "                                  (covers_in_lagrange_only_test, \"lagrange\", \"test\"), \n",
    "                                  (covers_in_matching_only_train, \"matching\", \"train\"), \n",
    "                                  (covers_in_matching_only_test, \"matching\", \"test\")]:\n",
    "    arr = []\n",
    "    for row in L:\n",
    "        flattened_row = [item for sublist in row for item in sublist]\n",
    "        flattened_row.insert(a+b, \";\")\n",
    "        arr.append(flattened_row)\n",
    "\n",
    "    np.savetxt(f\"./poset_data_final/{poset_type}_covers_{train_or_test}_{a}_{b}.csv\", arr, fmt=\"%s\")"
   ]
  }
 ],
 "metadata": {
  "kernelspec": {
   "display_name": "SageMath 10.5",
   "language": "sage",
   "name": "sagemath"
  },
  "language_info": {
   "codemirror_mode": {
    "name": "ipython",
    "version": 3
   },
   "file_extension": ".py",
   "mimetype": "text/x-python",
   "name": "python",
   "nbconvert_exporter": "python",
   "pygments_lexer": "ipython3",
   "version": "3.11.11"
  }
 },
 "nbformat": 4,
 "nbformat_minor": 5
}
